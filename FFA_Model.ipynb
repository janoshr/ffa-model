{
 "cells": [
  {
   "cell_type": "code",
   "execution_count": 1,
   "metadata": {
    "id": "kCbo6EpgcVUF"
   },
   "outputs": [
    {
     "name": "stderr",
     "output_type": "stream",
     "text": [
      "2023-02-28 21:33:21.615003: I tensorflow/core/platform/cpu_feature_guard.cc:193] This TensorFlow binary is optimized with oneAPI Deep Neural Network Library (oneDNN) to use the following CPU instructions in performance-critical operations:  AVX2 FMA\n",
      "To enable them in other operations, rebuild TensorFlow with the appropriate compiler flags.\n",
      "2023-02-28 21:33:21.730781: W tensorflow/compiler/xla/stream_executor/platform/default/dso_loader.cc:64] Could not load dynamic library 'libcudart.so.11.0'; dlerror: libcudart.so.11.0: cannot open shared object file: No such file or directory\n",
      "2023-02-28 21:33:21.730798: I tensorflow/compiler/xla/stream_executor/cuda/cudart_stub.cc:29] Ignore above cudart dlerror if you do not have a GPU set up on your machine.\n",
      "2023-02-28 21:33:22.397453: W tensorflow/compiler/xla/stream_executor/platform/default/dso_loader.cc:64] Could not load dynamic library 'libnvinfer.so.7'; dlerror: libnvinfer.so.7: cannot open shared object file: No such file or directory\n",
      "2023-02-28 21:33:22.397522: W tensorflow/compiler/xla/stream_executor/platform/default/dso_loader.cc:64] Could not load dynamic library 'libnvinfer_plugin.so.7'; dlerror: libnvinfer_plugin.so.7: cannot open shared object file: No such file or directory\n",
      "2023-02-28 21:33:22.397529: W tensorflow/compiler/tf2tensorrt/utils/py_utils.cc:38] TF-TRT Warning: Cannot dlopen some TensorRT libraries. If you would like to use Nvidia GPU with TensorRT, please make sure the missing libraries mentioned above are installed properly.\n"
     ]
    }
   ],
   "source": [
    "# Imports\n",
    "import pandas as pd\n",
    "import numpy as np\n",
    "import tensorflow as tf\n",
    "\n",
    "from sklearn.model_selection import train_test_split\n"
   ]
  },
  {
   "cell_type": "code",
   "execution_count": 2,
   "metadata": {
    "colab": {
     "base_uri": "https://localhost:8080/"
    },
    "id": "FCWvExeil5A1",
    "outputId": "af01cf44-138b-422b-89ac-8337b52cd9e3"
   },
   "outputs": [
    {
     "data": {
      "text/plain": [
       "(18471, 69)"
      ]
     },
     "execution_count": 2,
     "metadata": {},
     "output_type": "execute_result"
    }
   ],
   "source": [
    "df = pd.read_csv('./data/processed_data.csv')\n",
    "df.shape\n"
   ]
  },
  {
   "cell_type": "code",
   "execution_count": 3,
   "metadata": {
    "colab": {
     "base_uri": "https://localhost:8080/"
    },
    "id": "2DwofjBGV5Vu",
    "outputId": "def35a07-d36e-4cdb-a49a-1b2113313adb"
   },
   "outputs": [
    {
     "data": {
      "text/plain": [
       "24"
      ]
     },
     "execution_count": 3,
     "metadata": {},
     "output_type": "execute_result"
    }
   ],
   "source": [
    "# Final labels\n",
    "labels = ['patientState_good', 'patientState_caution', 'patientState_danger']\n",
    "# Section labels\n",
    "section_labels = {\n",
    "    'fever': ['feverState_good', 'feverState_caution', 'feverState_danger'],\n",
    "    'medication': ['medicationState_good', 'medicationState_caution', 'medicationState_danger'],\n",
    "    'hydration': ['hydrationState_good', 'hydrationState_caution', 'hydrationState_danger'],\n",
    "    'respiration': ['respirationState_good', 'respirationState_caution', 'respirationState_danger'],\n",
    "    'skin': ['skinState_good', 'skinState_caution', 'skinState_danger'],\n",
    "    'pulse': ['pulseState_good', 'pulseState_caution', 'pulseState_danger'],\n",
    "    'general': ['generalState_good', 'generalState_caution', 'generalState_danger'],\n",
    "}\n",
    "# Section labels in an array flattened\n",
    "section_labels_arr = [item for val in section_labels.values() for item in val]\n",
    "# All labels\n",
    "all_labels = [*labels, *section_labels_arr]\n",
    "len(all_labels)\n"
   ]
  },
  {
   "cell_type": "code",
   "execution_count": 4,
   "metadata": {
    "colab": {
     "base_uri": "https://localhost:8080/"
    },
    "id": "SxKJ2bSyYk2B",
    "outputId": "43ed643c-308c-4e14-e0d4-522226ffd95b"
   },
   "outputs": [
    {
     "data": {
      "text/plain": [
       "generalState_good  generalState_caution  generalState_danger\n",
       "1.0                0.0                   0.0                    10142\n",
       "0.0                1.0                   0.0                     7976\n",
       "                   0.0                   1.0                      353\n",
       "dtype: int64"
      ]
     },
     "execution_count": 4,
     "metadata": {},
     "output_type": "execute_result"
    }
   ],
   "source": [
    "df[section_labels['general']].value_counts()\n"
   ]
  },
  {
   "cell_type": "code",
   "execution_count": 5,
   "metadata": {
    "colab": {
     "base_uri": "https://localhost:8080/"
    },
    "id": "mWqUV0NUat2j",
    "outputId": "be460c23-5c6c-4b7d-ea1d-72254c667811"
   },
   "outputs": [
    {
     "data": {
      "text/plain": [
       "(11082, 45)"
      ]
     },
     "execution_count": 5,
     "metadata": {},
     "output_type": "execute_result"
    }
   ],
   "source": [
    "# Separating to testing and training\n",
    "\n",
    "# Prepare the data: You should split your data into training and test sets.\n",
    "# The training set will be used to train the model and the test set will be used\n",
    "# to evaluate the model's performance.\n",
    "\n",
    "_x, x_test, _y, y_test = train_test_split(\n",
    "    df.drop(columns=all_labels).to_numpy(),\n",
    "    df[labels].to_numpy(),\n",
    "    test_size=0.2,\n",
    "    random_state=42\n",
    ")\n",
    "x_train, x_val, y_train, y_val = train_test_split(\n",
    "    _x,\n",
    "    _y,\n",
    "    test_size=0.25,\n",
    "    train_size=0.75,\n",
    "    random_state=42\n",
    ")\n",
    "x_train.shape\n"
   ]
  },
  {
   "cell_type": "code",
   "execution_count": 6,
   "metadata": {
    "colab": {
     "base_uri": "https://localhost:8080/",
     "height": 73
    },
    "id": "omaRfxh9ozLC",
    "outputId": "1dcde71f-213f-4563-8982-e7315c181532"
   },
   "outputs": [
    {
     "data": {
      "text/plain": [
       "'[15.6173706445342, 1.0, 38.3, 0.0, 0.0, 0.0, 1.0, 1.0, 50.0, 0.0, 0.0, 0.0, 0.0, 0.0, 0.0, 0.0, 1.0, 13.0, 0.0, 0.0, 0.0, 0.0, 68.0, 0.0, 0.0, 0.0, 0.0, 0.0, 0.0, 0.0, 0.0, 0.0, 1.0, 0.0, 0.0, 0.0, 0.0, 1.0, 0.0, 0.0, 1.0, 0.0, 0.0, 0.0, 0.0]'"
      ]
     },
     "execution_count": 6,
     "metadata": {},
     "output_type": "execute_result"
    }
   ],
   "source": [
    "str(list(x_test[1]))\n"
   ]
  },
  {
   "cell_type": "code",
   "execution_count": 8,
   "metadata": {
    "id": "UBWlLfXBUf6u"
   },
   "outputs": [],
   "source": [
    "# Preprocess the data: Data preprocessing is an important step, which includes\n",
    "# cleaning and transforming the data. You should normalize the data,\n",
    "# one-hot encode categorical variables, and split the data into features and labels.\n",
    "\n",
    "# TODO: Does KNNImputer create a correlation between training and test split?\n",
    "# If yes do ->\n",
    "# TODO: move KNNImputer here\n",
    "# TODO: move every preprocessing step that would create a connection between train and test split\n"
   ]
  },
  {
   "cell_type": "code",
   "execution_count": 7,
   "metadata": {},
   "outputs": [],
   "source": [
    "from tensorflow import keras\n"
   ]
  },
  {
   "cell_type": "code",
   "execution_count": 8,
   "metadata": {},
   "outputs": [
    {
     "name": "stdout",
     "output_type": "stream",
     "text": [
      "Model: \"sequential\"\n",
      "_________________________________________________________________\n",
      " Layer (type)                Output Shape              Param #   \n",
      "=================================================================\n",
      " dense (Dense)               (None, 45)                2070      \n",
      "                                                                 \n",
      " dense_1 (Dense)             (None, 3)                 138       \n",
      "                                                                 \n",
      "=================================================================\n",
      "Total params: 2,208\n",
      "Trainable params: 2,208\n",
      "Non-trainable params: 0\n",
      "_________________________________________________________________\n"
     ]
    },
    {
     "name": "stderr",
     "output_type": "stream",
     "text": [
      "2023-02-28 21:33:34.369753: I tensorflow/compiler/xla/stream_executor/cuda/cuda_gpu_executor.cc:981] successful NUMA node read from SysFS had negative value (-1), but there must be at least one NUMA node, so returning NUMA node zero\n",
      "2023-02-28 21:33:34.370121: W tensorflow/compiler/xla/stream_executor/platform/default/dso_loader.cc:64] Could not load dynamic library 'libcudart.so.11.0'; dlerror: libcudart.so.11.0: cannot open shared object file: No such file or directory\n",
      "2023-02-28 21:33:34.370174: W tensorflow/compiler/xla/stream_executor/platform/default/dso_loader.cc:64] Could not load dynamic library 'libcublas.so.11'; dlerror: libcublas.so.11: cannot open shared object file: No such file or directory\n",
      "2023-02-28 21:33:34.370220: W tensorflow/compiler/xla/stream_executor/platform/default/dso_loader.cc:64] Could not load dynamic library 'libcublasLt.so.11'; dlerror: libcublasLt.so.11: cannot open shared object file: No such file or directory\n",
      "2023-02-28 21:33:34.370266: W tensorflow/compiler/xla/stream_executor/platform/default/dso_loader.cc:64] Could not load dynamic library 'libcufft.so.10'; dlerror: libcufft.so.10: cannot open shared object file: No such file or directory\n",
      "2023-02-28 21:33:34.370311: W tensorflow/compiler/xla/stream_executor/platform/default/dso_loader.cc:64] Could not load dynamic library 'libcurand.so.10'; dlerror: libcurand.so.10: cannot open shared object file: No such file or directory\n",
      "2023-02-28 21:33:34.370356: W tensorflow/compiler/xla/stream_executor/platform/default/dso_loader.cc:64] Could not load dynamic library 'libcusolver.so.11'; dlerror: libcusolver.so.11: cannot open shared object file: No such file or directory\n",
      "2023-02-28 21:33:34.370415: W tensorflow/compiler/xla/stream_executor/platform/default/dso_loader.cc:64] Could not load dynamic library 'libcusparse.so.11'; dlerror: libcusparse.so.11: cannot open shared object file: No such file or directory\n",
      "2023-02-28 21:33:34.370462: W tensorflow/compiler/xla/stream_executor/platform/default/dso_loader.cc:64] Could not load dynamic library 'libcudnn.so.8'; dlerror: libcudnn.so.8: cannot open shared object file: No such file or directory\n",
      "2023-02-28 21:33:34.370469: W tensorflow/core/common_runtime/gpu/gpu_device.cc:1934] Cannot dlopen some GPU libraries. Please make sure the missing libraries mentioned above are installed properly if you would like to use GPU. Follow the guide at https://www.tensorflow.org/install/gpu for how to download and setup the required libraries for your platform.\n",
      "Skipping registering GPU devices...\n",
      "2023-02-28 21:33:34.370786: I tensorflow/core/platform/cpu_feature_guard.cc:193] This TensorFlow binary is optimized with oneAPI Deep Neural Network Library (oneDNN) to use the following CPU instructions in performance-critical operations:  AVX2 FMA\n",
      "To enable them in other operations, rebuild TensorFlow with the appropriate compiler flags.\n"
     ]
    }
   ],
   "source": [
    "# Create a baseline model to measure performance\n",
    "b_model = keras.Sequential([\n",
    "    keras.layers.Dense(units=45, activation='tanh', input_shape=(45,)),\n",
    "    keras.layers.Dense(units=3, activation='softmax'),\n",
    "])\n",
    "b_model.compile(\n",
    "    optimizer='adam',\n",
    "    loss='categorical_crossentropy',\n",
    "    metrics=['accuracy']\n",
    ")\n",
    "b_model.build()\n",
    "b_model.summary()\n"
   ]
  },
  {
   "cell_type": "code",
   "execution_count": 9,
   "metadata": {},
   "outputs": [
    {
     "name": "stdout",
     "output_type": "stream",
     "text": [
      "Epoch 1/20\n",
      "347/347 - 1s - loss: 0.7627 - accuracy: 0.6428 - val_loss: 0.6594 - val_accuracy: 0.6984 - 1s/epoch - 3ms/step\n",
      "Epoch 2/20\n",
      "347/347 - 0s - loss: 0.6201 - accuracy: 0.7361 - val_loss: 0.5683 - val_accuracy: 0.7675 - 403ms/epoch - 1ms/step\n",
      "Epoch 3/20\n",
      "347/347 - 0s - loss: 0.5160 - accuracy: 0.7933 - val_loss: 0.4769 - val_accuracy: 0.8045 - 400ms/epoch - 1ms/step\n",
      "Epoch 4/20\n",
      "347/347 - 0s - loss: 0.4507 - accuracy: 0.8223 - val_loss: 0.4528 - val_accuracy: 0.8211 - 391ms/epoch - 1ms/step\n",
      "Epoch 5/20\n",
      "347/347 - 0s - loss: 0.4127 - accuracy: 0.8404 - val_loss: 0.4048 - val_accuracy: 0.8481 - 381ms/epoch - 1ms/step\n",
      "Epoch 6/20\n",
      "347/347 - 0s - loss: 0.3938 - accuracy: 0.8502 - val_loss: 0.3862 - val_accuracy: 0.8522 - 380ms/epoch - 1ms/step\n",
      "Epoch 7/20\n",
      "347/347 - 0s - loss: 0.3766 - accuracy: 0.8546 - val_loss: 0.3714 - val_accuracy: 0.8533 - 393ms/epoch - 1ms/step\n",
      "Epoch 8/20\n",
      "347/347 - 0s - loss: 0.3623 - accuracy: 0.8566 - val_loss: 0.3866 - val_accuracy: 0.8389 - 409ms/epoch - 1ms/step\n",
      "Epoch 9/20\n",
      "347/347 - 0s - loss: 0.3564 - accuracy: 0.8591 - val_loss: 0.3760 - val_accuracy: 0.8584 - 373ms/epoch - 1ms/step\n",
      "Epoch 10/20\n",
      "347/347 - 0s - loss: 0.3493 - accuracy: 0.8604 - val_loss: 0.3509 - val_accuracy: 0.8579 - 375ms/epoch - 1ms/step\n",
      "Epoch 11/20\n",
      "347/347 - 0s - loss: 0.3404 - accuracy: 0.8679 - val_loss: 0.3446 - val_accuracy: 0.8617 - 384ms/epoch - 1ms/step\n",
      "Epoch 12/20\n",
      "347/347 - 0s - loss: 0.3330 - accuracy: 0.8705 - val_loss: 0.3485 - val_accuracy: 0.8636 - 372ms/epoch - 1ms/step\n",
      "Epoch 13/20\n",
      "347/347 - 0s - loss: 0.3237 - accuracy: 0.8723 - val_loss: 0.3318 - val_accuracy: 0.8646 - 367ms/epoch - 1ms/step\n",
      "Epoch 14/20\n",
      "347/347 - 0s - loss: 0.3181 - accuracy: 0.8762 - val_loss: 0.3519 - val_accuracy: 0.8676 - 376ms/epoch - 1ms/step\n",
      "Epoch 15/20\n",
      "347/347 - 0s - loss: 0.3208 - accuracy: 0.8767 - val_loss: 0.3226 - val_accuracy: 0.8720 - 379ms/epoch - 1ms/step\n",
      "Epoch 16/20\n",
      "347/347 - 0s - loss: 0.3090 - accuracy: 0.8815 - val_loss: 0.3377 - val_accuracy: 0.8725 - 372ms/epoch - 1ms/step\n",
      "Epoch 17/20\n",
      "347/347 - 0s - loss: 0.3111 - accuracy: 0.8799 - val_loss: 0.3331 - val_accuracy: 0.8809 - 384ms/epoch - 1ms/step\n",
      "Epoch 18/20\n",
      "347/347 - 0s - loss: 0.3020 - accuracy: 0.8837 - val_loss: 0.3308 - val_accuracy: 0.8657 - 390ms/epoch - 1ms/step\n",
      "Epoch 19/20\n",
      "347/347 - 0s - loss: 0.2935 - accuracy: 0.8869 - val_loss: 0.3535 - val_accuracy: 0.8671 - 377ms/epoch - 1ms/step\n",
      "Epoch 20/20\n",
      "347/347 - 0s - loss: 0.2953 - accuracy: 0.8854 - val_loss: 0.3251 - val_accuracy: 0.8638 - 376ms/epoch - 1ms/step\n"
     ]
    },
    {
     "data": {
      "text/plain": [
       "<keras.callbacks.History at 0x7f65310eccd0>"
      ]
     },
     "execution_count": 9,
     "metadata": {},
     "output_type": "execute_result"
    }
   ],
   "source": [
    "# Train baseline model\n",
    "NUM_EPOCHS = 20\n",
    "\n",
    "# Early stopping set after 5 epochs\n",
    "stop_early = tf.keras.callbacks.EarlyStopping(monitor='val_loss', patience=5)\n",
    "\n",
    "b_model.fit(\n",
    "    x_train,\n",
    "    y_train,\n",
    "    epochs=NUM_EPOCHS,\n",
    "    validation_data=(x_val, y_val),\n",
    "    callbacks=[stop_early],\n",
    "    verbose=2\n",
    ")"
   ]
  },
  {
   "cell_type": "code",
   "execution_count": 10,
   "metadata": {},
   "outputs": [
    {
     "name": "stdout",
     "output_type": "stream",
     "text": [
      "116/116 [==============================] - 0s 1ms/step - loss: 0.3018 - accuracy: 0.8844\n"
     ]
    },
    {
     "data": {
      "text/html": [
       "<div>\n",
       "<style scoped>\n",
       "    .dataframe tbody tr th:only-of-type {\n",
       "        vertical-align: middle;\n",
       "    }\n",
       "\n",
       "    .dataframe tbody tr th {\n",
       "        vertical-align: top;\n",
       "    }\n",
       "\n",
       "    .dataframe thead tr th {\n",
       "        text-align: left;\n",
       "    }\n",
       "</style>\n",
       "<table border=\"1\" class=\"dataframe\">\n",
       "  <thead>\n",
       "    <tr>\n",
       "      <th></th>\n",
       "      <th>loss</th>\n",
       "      <th>accuracy</th>\n",
       "    </tr>\n",
       "  </thead>\n",
       "  <tbody>\n",
       "    <tr>\n",
       "      <th>Baseline</th>\n",
       "      <td>0.301824</td>\n",
       "      <td>0.884438</td>\n",
       "    </tr>\n",
       "  </tbody>\n",
       "</table>\n",
       "</div>"
      ],
      "text/plain": [
       "              loss  accuracy\n",
       "Baseline  0.301824  0.884438"
      ]
     },
     "execution_count": 10,
     "metadata": {},
     "output_type": "execute_result"
    }
   ],
   "source": [
    "def evaluate_model(model, x_test, y_test):\n",
    "    \"\"\"\n",
    "    evaluate model on test set and show results in dataframe.\n",
    "    \n",
    "    Parameters\n",
    "    ----------\n",
    "    model : keras model\n",
    "        trained keras model.\n",
    "    X_test : numpy array\n",
    "        Features of holdout set.\n",
    "    y_test : numpy array\n",
    "        Labels of holdout set.\n",
    "        \n",
    "    Returns\n",
    "    -------\n",
    "    display_df : DataFrame\n",
    "        Pandas dataframe containing evaluation results.\n",
    "    \"\"\"\n",
    "    eval_dict = model.evaluate(x_test, y_test, return_dict=True)\n",
    "    \n",
    "    display_df = pd.DataFrame([eval_dict.values()], columns=[list(eval_dict.keys())])\n",
    "    \n",
    "    return display_df\n",
    "\n",
    "# Evaluate model on test set and add results to dataframe\n",
    "results = evaluate_model(b_model, x_test, y_test)\n",
    "\n",
    "# Set index to 'Baseline'\n",
    "results.index = ['Baseline']\n",
    "\n",
    "# Display results\n",
    "results.head()"
   ]
  },
  {
   "cell_type": "code",
   "execution_count": 12,
   "metadata": {
    "colab": {
     "base_uri": "https://localhost:8080/"
    },
    "id": "95i1CiBhU2CL",
    "outputId": "d74a9d05-6a5a-4ef8-f5c8-3c80af36128d"
   },
   "outputs": [],
   "source": [
    "# Define the model: TensorFlow provides a high-level API for building and\n",
    "# training neural network models. You should choose the appropriate model\n",
    "# architecture for your problem and specify the hyperparameters,\n",
    "# such as the number of hidden layers and the number of neurons in each layer.\n",
    "\n",
    "callbacks = [\n",
    "    keras.callbacks.ModelCheckpoint(\n",
    "        filepath='./checkpoints/model_{epoch}',\n",
    "        save_freq='epoch'),\n",
    "    keras.callbacks.TensorBoard(log_dir='./logs')\n",
    "]\n",
    "\n",
    "\n",
    "def build_model(hp):\n",
    "    \"\"\"\n",
    "    Builds model and sets up hyperparameter space to search.\n",
    "    \n",
    "    Parameters\n",
    "    ----------\n",
    "    hp : HyperParameter object\n",
    "        Configures hyperparameters to tune.\n",
    "        \n",
    "    Returns\n",
    "    -------\n",
    "    model : keras model\n",
    "        Compiled model with hyperparameters to tune.\n",
    "    \"\"\"\n",
    "    model = keras.Sequential([\n",
    "        keras.layers.Dense(\n",
    "            units=hp.Int('units', min_value=32, max_value=512, step=32),\n",
    "            activation=hp.Choice('activation', values=['tanh', 'sigmoid', 'relu']),\n",
    "            input_shape=(45,)),\n",
    "    ])\n",
    "    # Tune the number of hidden layers and units in each.\n",
    "    # Number of hidden layers: 1 - 4\n",
    "    # Number of Units: 32 - 512 with stepsize of 32\n",
    "    num_layers = hp.Int(\"num_layers\", 2, 5)\n",
    "    for i in range(1, num_layers):\n",
    "        with hp.conditional_scope('num_layers', list(range(i+1, 5+1))):\n",
    "            model.add(\n",
    "                keras.layers.Dense(\n",
    "                    units=hp.Int(\"units_\" + str(i), min_value=32, max_value=512, step=32),\n",
    "                    activation=hp.Choice('activation_' + str(i), values=['tanh', 'sigmoid', 'relu']),\n",
    "                )\n",
    "            )\n",
    "            # Tune dropout layer with values from 0 - 0.3 with stepsize of 0.1.\n",
    "            model.add(keras.layers.Dropout(hp.Float(\"dropout_\" + str(i), 0, 0.3, step=0.1)))\n",
    "\n",
    "    # Output layer\n",
    "    model.add(\n",
    "        keras.layers.Dense(3, activation='softmax')\n",
    "    )\n",
    "    model.compile(\n",
    "        optimizer=keras.optimizers.Adam(hp.Choice('learning_rate', values=[1e-2, 1e-3, 1e-4])),\n",
    "        # optimizer='adam',\n",
    "        loss='categorical_crossentropy',\n",
    "        metrics=['accuracy'])\n",
    "    model.build()\n",
    "    return model\n"
   ]
  },
  {
   "cell_type": "code",
   "execution_count": 13,
   "metadata": {
    "id": "vvetSq2eVARF"
   },
   "outputs": [
    {
     "name": "stdout",
     "output_type": "stream",
     "text": [
      "INFO:tensorflow:Reloading Tuner from tuner3/hyperband/tuner0.json\n"
     ]
    }
   ],
   "source": [
    "# Compile the model: You should compile the model by specifying the optimizer,\n",
    "# loss function, and evaluation metrics.\n",
    "import keras_tuner as kt\n",
    "\n",
    "tuner = kt.tuners.Hyperband(\n",
    "    build_model,\n",
    "    objective='val_loss',\n",
    "    executions_per_trial=2,\n",
    "    hyperband_iterations=2,\n",
    "    max_epochs=100,\n",
    "    factor=3,\n",
    "    overwrite=False,\n",
    "    directory='tuner3',\n",
    "    project_name=\"hyperband\",\n",
    ")\n"
   ]
  },
  {
   "cell_type": "code",
   "execution_count": 15,
   "metadata": {},
   "outputs": [
    {
     "name": "stdout",
     "output_type": "stream",
     "text": [
      "Trial 508 Complete [00h 02m 04s]\n",
      "val_loss: 0.2693604677915573\n",
      "\n",
      "Best val_loss So Far: 0.20006748288869858\n",
      "Total elapsed time: 01h 45m 19s\n",
      "INFO:tensorflow:Oracle triggered exit\n"
     ]
    }
   ],
   "source": [
    "stop_early = tf.keras.callbacks.EarlyStopping(monitor='val_loss', patience=5)\n",
    "\n",
    "tuner.search(x_train, y_train, validation_data=(x_val, y_val), epochs=4, callbacks=[stop_early])\n"
   ]
  },
  {
   "cell_type": "code",
   "execution_count": 14,
   "metadata": {},
   "outputs": [
    {
     "name": "stdout",
     "output_type": "stream",
     "text": [
      "Results summary\n",
      "Results in tuner3/hyperband\n",
      "Showing 10 best trials\n",
      "<keras_tuner.engine.objective.Objective object at 0x7f65207d8970>\n",
      "Trial summary\n",
      "Hyperparameters:\n",
      "units: 128\n",
      "activation: relu\n",
      "num_layers: 2\n",
      "units_1: 416\n",
      "activation_1: sigmoid\n",
      "dropout_1: 0.2\n",
      "learning_rate: 0.001\n",
      "tuner/epochs: 100\n",
      "tuner/initial_epoch: 34\n",
      "tuner/bracket: 2\n",
      "tuner/round: 2\n",
      "tuner/trial_id: 0228\n",
      "Score: 0.20006748288869858\n",
      "Trial summary\n",
      "Hyperparameters:\n",
      "units: 480\n",
      "activation: relu\n",
      "num_layers: 3\n",
      "units_1: 320\n",
      "activation_1: sigmoid\n",
      "dropout_1: 0.1\n",
      "learning_rate: 0.001\n",
      "units_2: 160\n",
      "activation_2: relu\n",
      "dropout_2: 0.0\n",
      "tuner/epochs: 100\n",
      "tuner/initial_epoch: 34\n",
      "tuner/bracket: 3\n",
      "tuner/round: 3\n",
      "tuner/trial_id: 0203\n",
      "Score: 0.2034383863210678\n",
      "Trial summary\n",
      "Hyperparameters:\n",
      "units: 384\n",
      "activation: relu\n",
      "num_layers: 5\n",
      "units_1: 448\n",
      "activation_1: sigmoid\n",
      "dropout_1: 0.0\n",
      "learning_rate: 0.001\n",
      "units_2: 128\n",
      "activation_2: sigmoid\n",
      "dropout_2: 0.1\n",
      "units_3: 192\n",
      "activation_3: tanh\n",
      "dropout_3: 0.0\n",
      "units_4: 320\n",
      "activation_4: tanh\n",
      "dropout_4: 0.0\n",
      "tuner/epochs: 100\n",
      "tuner/initial_epoch: 34\n",
      "tuner/bracket: 3\n",
      "tuner/round: 3\n",
      "tuner/trial_id: 0459\n",
      "Score: 0.2053094580769539\n",
      "Trial summary\n",
      "Hyperparameters:\n",
      "units: 192\n",
      "activation: relu\n",
      "num_layers: 2\n",
      "units_1: 96\n",
      "activation_1: sigmoid\n",
      "dropout_1: 0.1\n",
      "learning_rate: 0.001\n",
      "tuner/epochs: 100\n",
      "tuner/initial_epoch: 34\n",
      "tuner/bracket: 1\n",
      "tuner/round: 1\n",
      "tuner/trial_id: 0491\n",
      "Score: 0.20592466741800308\n",
      "Trial summary\n",
      "Hyperparameters:\n",
      "units: 320\n",
      "activation: sigmoid\n",
      "num_layers: 3\n",
      "units_1: 224\n",
      "activation_1: relu\n",
      "dropout_1: 0.1\n",
      "learning_rate: 0.001\n",
      "units_2: 448\n",
      "activation_2: tanh\n",
      "dropout_2: 0.0\n",
      "tuner/epochs: 100\n",
      "tuner/initial_epoch: 34\n",
      "tuner/bracket: 4\n",
      "tuner/round: 4\n",
      "tuner/trial_id: 0397\n",
      "Score: 0.21206671744585037\n",
      "Trial summary\n",
      "Hyperparameters:\n",
      "units: 128\n",
      "activation: relu\n",
      "num_layers: 2\n",
      "units_1: 224\n",
      "activation_1: sigmoid\n",
      "dropout_1: 0.0\n",
      "learning_rate: 0.001\n",
      "tuner/epochs: 100\n",
      "tuner/initial_epoch: 34\n",
      "tuner/bracket: 3\n",
      "tuner/round: 3\n",
      "tuner/trial_id: 0457\n",
      "Score: 0.21507079899311066\n",
      "Trial summary\n",
      "Hyperparameters:\n",
      "units: 480\n",
      "activation: relu\n",
      "num_layers: 4\n",
      "units_1: 256\n",
      "activation_1: sigmoid\n",
      "dropout_1: 0.0\n",
      "learning_rate: 0.001\n",
      "units_2: 32\n",
      "activation_2: tanh\n",
      "dropout_2: 0.2\n",
      "units_3: 64\n",
      "activation_3: sigmoid\n",
      "dropout_3: 0.1\n",
      "tuner/epochs: 34\n",
      "tuner/initial_epoch: 0\n",
      "tuner/bracket: 1\n",
      "tuner/round: 0\n",
      "Score: 0.21582532674074173\n",
      "Trial summary\n",
      "Hyperparameters:\n",
      "units: 480\n",
      "activation: relu\n",
      "num_layers: 4\n",
      "units_1: 256\n",
      "activation_1: sigmoid\n",
      "dropout_1: 0.0\n",
      "learning_rate: 0.001\n",
      "units_2: 32\n",
      "activation_2: tanh\n",
      "dropout_2: 0.2\n",
      "units_3: 64\n",
      "activation_3: sigmoid\n",
      "dropout_3: 0.1\n",
      "tuner/epochs: 100\n",
      "tuner/initial_epoch: 34\n",
      "tuner/bracket: 1\n",
      "tuner/round: 1\n",
      "tuner/trial_id: 0494\n",
      "Score: 0.21604902297258377\n",
      "Trial summary\n",
      "Hyperparameters:\n",
      "units: 480\n",
      "activation: relu\n",
      "num_layers: 3\n",
      "units_1: 320\n",
      "activation_1: sigmoid\n",
      "dropout_1: 0.1\n",
      "learning_rate: 0.001\n",
      "units_2: 160\n",
      "activation_2: relu\n",
      "dropout_2: 0.0\n",
      "tuner/epochs: 34\n",
      "tuner/initial_epoch: 12\n",
      "tuner/bracket: 3\n",
      "tuner/round: 2\n",
      "tuner/trial_id: 0195\n",
      "Score: 0.21760907024145126\n",
      "Trial summary\n",
      "Hyperparameters:\n",
      "units: 384\n",
      "activation: relu\n",
      "num_layers: 5\n",
      "units_1: 448\n",
      "activation_1: sigmoid\n",
      "dropout_1: 0.0\n",
      "learning_rate: 0.001\n",
      "units_2: 128\n",
      "activation_2: sigmoid\n",
      "dropout_2: 0.1\n",
      "units_3: 192\n",
      "activation_3: tanh\n",
      "dropout_3: 0.0\n",
      "units_4: 320\n",
      "activation_4: tanh\n",
      "dropout_4: 0.0\n",
      "tuner/epochs: 34\n",
      "tuner/initial_epoch: 12\n",
      "tuner/bracket: 3\n",
      "tuner/round: 2\n",
      "tuner/trial_id: 0451\n",
      "Score: 0.2185087949037552\n"
     ]
    }
   ],
   "source": [
    "\n",
    "tuner.results_summary()\n"
   ]
  },
  {
   "cell_type": "code",
   "execution_count": null,
   "metadata": {},
   "outputs": [],
   "source": [
    "tuner.search_space_summary()\n"
   ]
  },
  {
   "cell_type": "markdown",
   "metadata": {},
   "source": [
    "Best val_loss So Far: 0.3011022210121155\n",
    "\n",
    "- 5 epochs\n",
    "- 512 units\n",
    "- tanh activation\n",
    "- True 2nd layer\n",
    "- 0.001 learning_rate\n",
    "- 192 units2\n"
   ]
  },
  {
   "cell_type": "code",
   "execution_count": 17,
   "metadata": {},
   "outputs": [
    {
     "data": {
      "text/html": [
       "<div>\n",
       "<style scoped>\n",
       "    .dataframe tbody tr th:only-of-type {\n",
       "        vertical-align: middle;\n",
       "    }\n",
       "\n",
       "    .dataframe tbody tr th {\n",
       "        vertical-align: top;\n",
       "    }\n",
       "\n",
       "    .dataframe thead tr th {\n",
       "        text-align: left;\n",
       "    }\n",
       "</style>\n",
       "<table border=\"1\" class=\"dataframe\">\n",
       "  <thead>\n",
       "    <tr>\n",
       "      <th></th>\n",
       "      <th>loss</th>\n",
       "      <th>accuracy</th>\n",
       "    </tr>\n",
       "  </thead>\n",
       "  <tbody>\n",
       "    <tr>\n",
       "      <th>Baseline</th>\n",
       "      <td>0.272868</td>\n",
       "      <td>0.896346</td>\n",
       "    </tr>\n",
       "  </tbody>\n",
       "</table>\n",
       "</div>"
      ],
      "text/plain": [
       "              loss  accuracy\n",
       "Baseline  0.272868  0.896346"
      ]
     },
     "execution_count": 17,
     "metadata": {},
     "output_type": "execute_result"
    }
   ],
   "source": [
    "results"
   ]
  },
  {
   "cell_type": "code",
   "execution_count": 15,
   "metadata": {},
   "outputs": [
    {
     "name": "stdout",
     "output_type": "stream",
     "text": [
      "Running model: 0 {'units': 128, 'activation': 'relu', 'num_layers': 2, 'units_1': 416, 'activation_1': 'sigmoid', 'dropout_1': 0.2, 'learning_rate': 0.001, 'tuner/epochs': 100, 'tuner/initial_epoch': 34, 'tuner/bracket': 2, 'tuner/round': 2, 'tuner/trial_id': '0228'}\n",
      "116/116 [==============================] - 0s 1ms/step - loss: 0.2524 - accuracy: 0.9015\n",
      "Running model: 1 {'units': 480, 'activation': 'relu', 'num_layers': 3, 'units_1': 320, 'activation_1': 'sigmoid', 'dropout_1': 0.1, 'learning_rate': 0.001, 'units_2': 160, 'activation_2': 'relu', 'dropout_2': 0.0, 'tuner/epochs': 100, 'tuner/initial_epoch': 34, 'tuner/bracket': 3, 'tuner/round': 3, 'tuner/trial_id': '0203'}\n",
      "116/116 [==============================] - 0s 1ms/step - loss: 0.2821 - accuracy: 0.8888\n",
      "Running model: 2 {'units': 384, 'activation': 'relu', 'num_layers': 5, 'units_1': 448, 'activation_1': 'sigmoid', 'dropout_1': 0.0, 'learning_rate': 0.001, 'units_2': 128, 'activation_2': 'sigmoid', 'dropout_2': 0.1, 'units_3': 192, 'activation_3': 'tanh', 'dropout_3': 0.0, 'units_4': 320, 'activation_4': 'tanh', 'dropout_4': 0.0, 'tuner/epochs': 100, 'tuner/initial_epoch': 34, 'tuner/bracket': 3, 'tuner/round': 3, 'tuner/trial_id': '0459'}\n",
      "116/116 [==============================] - 0s 2ms/step - loss: 0.2505 - accuracy: 0.9142\n",
      "Running model: 3 {'units': 192, 'activation': 'relu', 'num_layers': 2, 'units_1': 96, 'activation_1': 'sigmoid', 'dropout_1': 0.1, 'learning_rate': 0.001, 'tuner/epochs': 100, 'tuner/initial_epoch': 34, 'tuner/bracket': 1, 'tuner/round': 1, 'tuner/trial_id': '0491'}\n",
      "116/116 [==============================] - 0s 955us/step - loss: 0.2592 - accuracy: 0.9058\n",
      "Running model: 4 {'units': 320, 'activation': 'sigmoid', 'num_layers': 3, 'units_1': 224, 'activation_1': 'relu', 'dropout_1': 0.1, 'learning_rate': 0.001, 'units_2': 448, 'activation_2': 'tanh', 'dropout_2': 0.0, 'tuner/epochs': 100, 'tuner/initial_epoch': 34, 'tuner/bracket': 4, 'tuner/round': 4, 'tuner/trial_id': '0397'}\n",
      "116/116 [==============================] - 0s 1ms/step - loss: 0.3051 - accuracy: 0.8977\n",
      "Running model: 5 {'units': 128, 'activation': 'relu', 'num_layers': 2, 'units_1': 224, 'activation_1': 'sigmoid', 'dropout_1': 0.0, 'learning_rate': 0.001, 'tuner/epochs': 100, 'tuner/initial_epoch': 34, 'tuner/bracket': 3, 'tuner/round': 3, 'tuner/trial_id': '0457'}\n",
      "116/116 [==============================] - 0s 1ms/step - loss: 0.2255 - accuracy: 0.9161\n",
      "Running model: 6 {'units': 480, 'activation': 'relu', 'num_layers': 4, 'units_1': 256, 'activation_1': 'sigmoid', 'dropout_1': 0.0, 'learning_rate': 0.001, 'units_2': 32, 'activation_2': 'tanh', 'dropout_2': 0.2, 'units_3': 64, 'activation_3': 'sigmoid', 'dropout_3': 0.1, 'tuner/epochs': 34, 'tuner/initial_epoch': 0, 'tuner/bracket': 1, 'tuner/round': 0}\n",
      "116/116 [==============================] - 0s 1ms/step - loss: 0.2336 - accuracy: 0.9115\n",
      "Running model: 7 {'units': 480, 'activation': 'relu', 'num_layers': 4, 'units_1': 256, 'activation_1': 'sigmoid', 'dropout_1': 0.0, 'learning_rate': 0.001, 'units_2': 32, 'activation_2': 'tanh', 'dropout_2': 0.2, 'units_3': 64, 'activation_3': 'sigmoid', 'dropout_3': 0.1, 'tuner/epochs': 100, 'tuner/initial_epoch': 34, 'tuner/bracket': 1, 'tuner/round': 1, 'tuner/trial_id': '0494'}\n",
      "116/116 [==============================] - 0s 1ms/step - loss: 0.2274 - accuracy: 0.9180\n",
      "Running model: 8 {'units': 480, 'activation': 'relu', 'num_layers': 3, 'units_1': 320, 'activation_1': 'sigmoid', 'dropout_1': 0.1, 'learning_rate': 0.001, 'units_2': 160, 'activation_2': 'relu', 'dropout_2': 0.0, 'tuner/epochs': 34, 'tuner/initial_epoch': 12, 'tuner/bracket': 3, 'tuner/round': 2, 'tuner/trial_id': '0195'}\n",
      "116/116 [==============================] - 0s 1ms/step - loss: 0.2199 - accuracy: 0.9345\n",
      "Running model: 9 {'units': 384, 'activation': 'relu', 'num_layers': 5, 'units_1': 448, 'activation_1': 'sigmoid', 'dropout_1': 0.0, 'learning_rate': 0.001, 'units_2': 128, 'activation_2': 'sigmoid', 'dropout_2': 0.1, 'units_3': 192, 'activation_3': 'tanh', 'dropout_3': 0.0, 'units_4': 320, 'activation_4': 'tanh', 'dropout_4': 0.0, 'tuner/epochs': 34, 'tuner/initial_epoch': 12, 'tuner/bracket': 3, 'tuner/round': 2, 'tuner/trial_id': '0451'}\n",
      "116/116 [==============================] - 0s 1ms/step - loss: 0.2063 - accuracy: 0.9318\n"
     ]
    }
   ],
   "source": [
    "params = tuner.get_best_hyperparameters(10)\n",
    "\n",
    "for i, param in enumerate(params):\n",
    "    print('Running model:', i, param.values)\n",
    "    model = tuner.hypermodel.build(param)\n",
    "    model.fit(x_train, y_train, epochs=param.values.get('tuner/epochs'), callbacks=[stop_early], validation_data=(x_val, y_val), verbose=0)\n",
    "    hyper_df = evaluate_model(model, x_test, y_test)\n",
    "    hyper_df.index = [\"Hypertuned-\" + str(i)]\n",
    "    hyper_df['params'] = str(param.values)\n",
    "    # Append results in dataframe\n",
    "    results = pd.concat([results, hyper_df])"
   ]
  },
  {
   "cell_type": "markdown",
   "metadata": {},
   "source": [
    "Model 1: 116/116 [==============================] - 3s 24ms/step - loss: 0.2007 - accuracy: 0.9369\n"
   ]
  },
  {
   "cell_type": "code",
   "execution_count": 16,
   "metadata": {},
   "outputs": [
    {
     "name": "stdout",
     "output_type": "stream",
     "text": [
      "Running model: 10\n",
      "116/116 [==============================] - 0s 1ms/step - loss: 0.2011 - accuracy: 0.9269\n",
      "Running model: 11\n",
      "116/116 [==============================] - 0s 2ms/step - loss: 0.2703 - accuracy: 0.9323\n",
      "Running model: 12\n",
      "116/116 [==============================] - 0s 2ms/step - loss: 0.2503 - accuracy: 0.9304\n",
      "Running model: 13\n",
      "116/116 [==============================] - 0s 1ms/step - loss: 0.2304 - accuracy: 0.9215\n",
      "Running model: 14\n",
      "116/116 [==============================] - 0s 1ms/step - loss: 0.2098 - accuracy: 0.9296\n",
      "Running model: 15\n",
      "116/116 [==============================] - 0s 1ms/step - loss: 0.2077 - accuracy: 0.9250\n",
      "Running model: 16\n",
      "116/116 [==============================] - 0s 1ms/step - loss: 0.2248 - accuracy: 0.9218\n",
      "Running model: 17\n",
      "116/116 [==============================] - 0s 1ms/step - loss: 0.2197 - accuracy: 0.9307\n",
      "Running model: 18\n",
      "116/116 [==============================] - 0s 2ms/step - loss: 0.3176 - accuracy: 0.9004\n",
      "Running model: 19\n",
      "116/116 [==============================] - 0s 2ms/step - loss: 0.2189 - accuracy: 0.9248\n"
     ]
    }
   ],
   "source": [
    "models = tuner.get_best_models(10)\n",
    "\n",
    "for i, model in enumerate(models):\n",
    "    print('Running model:', i+10)\n",
    "    model.fit(x_train, y_train, epochs=param.values.get('tuner/epochs'), callbacks=[stop_early], validation_data=(x_val, y_val), verbose=0)\n",
    "    hyper_df = evaluate_model(model, x_test, y_test)\n",
    "    hyper_df.index = [\"Hypertuned-\" + str(i+10)]\n",
    "    # hyper_df['params'] = str(param.values)\n",
    "    # Append results in dataframe\n",
    "    results = pd.concat([results, hyper_df])"
   ]
  },
  {
   "cell_type": "code",
   "execution_count": 17,
   "metadata": {},
   "outputs": [
    {
     "data": {
      "text/html": [
       "<div>\n",
       "<style scoped>\n",
       "    .dataframe tbody tr th:only-of-type {\n",
       "        vertical-align: middle;\n",
       "    }\n",
       "\n",
       "    .dataframe tbody tr th {\n",
       "        vertical-align: top;\n",
       "    }\n",
       "\n",
       "    .dataframe thead tr th {\n",
       "        text-align: left;\n",
       "    }\n",
       "</style>\n",
       "<table border=\"1\" class=\"dataframe\">\n",
       "  <thead>\n",
       "    <tr>\n",
       "      <th></th>\n",
       "      <th>loss</th>\n",
       "      <th>accuracy</th>\n",
       "      <th>params</th>\n",
       "    </tr>\n",
       "  </thead>\n",
       "  <tbody>\n",
       "    <tr>\n",
       "      <th>Baseline</th>\n",
       "      <td>0.301824</td>\n",
       "      <td>0.884438</td>\n",
       "      <td>NaN</td>\n",
       "    </tr>\n",
       "    <tr>\n",
       "      <th>Hypertuned-0</th>\n",
       "      <td>0.252445</td>\n",
       "      <td>0.901488</td>\n",
       "      <td>{'units': 128, 'activation': 'relu', 'num_laye...</td>\n",
       "    </tr>\n",
       "    <tr>\n",
       "      <th>Hypertuned-1</th>\n",
       "      <td>0.282100</td>\n",
       "      <td>0.888769</td>\n",
       "      <td>{'units': 480, 'activation': 'relu', 'num_laye...</td>\n",
       "    </tr>\n",
       "    <tr>\n",
       "      <th>Hypertuned-2</th>\n",
       "      <td>0.250474</td>\n",
       "      <td>0.914208</td>\n",
       "      <td>{'units': 384, 'activation': 'relu', 'num_laye...</td>\n",
       "    </tr>\n",
       "    <tr>\n",
       "      <th>Hypertuned-3</th>\n",
       "      <td>0.259229</td>\n",
       "      <td>0.905819</td>\n",
       "      <td>{'units': 192, 'activation': 'relu', 'num_laye...</td>\n",
       "    </tr>\n",
       "    <tr>\n",
       "      <th>Hypertuned-4</th>\n",
       "      <td>0.305080</td>\n",
       "      <td>0.897700</td>\n",
       "      <td>{'units': 320, 'activation': 'sigmoid', 'num_l...</td>\n",
       "    </tr>\n",
       "    <tr>\n",
       "      <th>Hypertuned-5</th>\n",
       "      <td>0.225541</td>\n",
       "      <td>0.916103</td>\n",
       "      <td>{'units': 128, 'activation': 'relu', 'num_laye...</td>\n",
       "    </tr>\n",
       "    <tr>\n",
       "      <th>Hypertuned-6</th>\n",
       "      <td>0.233592</td>\n",
       "      <td>0.911502</td>\n",
       "      <td>{'units': 480, 'activation': 'relu', 'num_laye...</td>\n",
       "    </tr>\n",
       "    <tr>\n",
       "      <th>Hypertuned-7</th>\n",
       "      <td>0.227357</td>\n",
       "      <td>0.917997</td>\n",
       "      <td>{'units': 480, 'activation': 'relu', 'num_laye...</td>\n",
       "    </tr>\n",
       "    <tr>\n",
       "      <th>Hypertuned-8</th>\n",
       "      <td>0.219901</td>\n",
       "      <td>0.934506</td>\n",
       "      <td>{'units': 480, 'activation': 'relu', 'num_laye...</td>\n",
       "    </tr>\n",
       "    <tr>\n",
       "      <th>Hypertuned-9</th>\n",
       "      <td>0.206257</td>\n",
       "      <td>0.931800</td>\n",
       "      <td>{'units': 384, 'activation': 'relu', 'num_laye...</td>\n",
       "    </tr>\n",
       "    <tr>\n",
       "      <th>Hypertuned-10</th>\n",
       "      <td>0.201059</td>\n",
       "      <td>0.926928</td>\n",
       "      <td>NaN</td>\n",
       "    </tr>\n",
       "    <tr>\n",
       "      <th>Hypertuned-11</th>\n",
       "      <td>0.270305</td>\n",
       "      <td>0.932341</td>\n",
       "      <td>NaN</td>\n",
       "    </tr>\n",
       "    <tr>\n",
       "      <th>Hypertuned-12</th>\n",
       "      <td>0.250258</td>\n",
       "      <td>0.930447</td>\n",
       "      <td>NaN</td>\n",
       "    </tr>\n",
       "    <tr>\n",
       "      <th>Hypertuned-13</th>\n",
       "      <td>0.230439</td>\n",
       "      <td>0.921516</td>\n",
       "      <td>NaN</td>\n",
       "    </tr>\n",
       "    <tr>\n",
       "      <th>Hypertuned-14</th>\n",
       "      <td>0.209820</td>\n",
       "      <td>0.929635</td>\n",
       "      <td>NaN</td>\n",
       "    </tr>\n",
       "    <tr>\n",
       "      <th>Hypertuned-15</th>\n",
       "      <td>0.207733</td>\n",
       "      <td>0.925034</td>\n",
       "      <td>NaN</td>\n",
       "    </tr>\n",
       "    <tr>\n",
       "      <th>Hypertuned-16</th>\n",
       "      <td>0.224819</td>\n",
       "      <td>0.921786</td>\n",
       "      <td>NaN</td>\n",
       "    </tr>\n",
       "    <tr>\n",
       "      <th>Hypertuned-17</th>\n",
       "      <td>0.219693</td>\n",
       "      <td>0.930717</td>\n",
       "      <td>NaN</td>\n",
       "    </tr>\n",
       "    <tr>\n",
       "      <th>Hypertuned-18</th>\n",
       "      <td>0.317599</td>\n",
       "      <td>0.900406</td>\n",
       "      <td>NaN</td>\n",
       "    </tr>\n",
       "    <tr>\n",
       "      <th>Hypertuned-19</th>\n",
       "      <td>0.218879</td>\n",
       "      <td>0.924763</td>\n",
       "      <td>NaN</td>\n",
       "    </tr>\n",
       "  </tbody>\n",
       "</table>\n",
       "</div>"
      ],
      "text/plain": [
       "                   loss  accuracy  \\\n",
       "Baseline       0.301824  0.884438   \n",
       "Hypertuned-0   0.252445  0.901488   \n",
       "Hypertuned-1   0.282100  0.888769   \n",
       "Hypertuned-2   0.250474  0.914208   \n",
       "Hypertuned-3   0.259229  0.905819   \n",
       "Hypertuned-4   0.305080  0.897700   \n",
       "Hypertuned-5   0.225541  0.916103   \n",
       "Hypertuned-6   0.233592  0.911502   \n",
       "Hypertuned-7   0.227357  0.917997   \n",
       "Hypertuned-8   0.219901  0.934506   \n",
       "Hypertuned-9   0.206257  0.931800   \n",
       "Hypertuned-10  0.201059  0.926928   \n",
       "Hypertuned-11  0.270305  0.932341   \n",
       "Hypertuned-12  0.250258  0.930447   \n",
       "Hypertuned-13  0.230439  0.921516   \n",
       "Hypertuned-14  0.209820  0.929635   \n",
       "Hypertuned-15  0.207733  0.925034   \n",
       "Hypertuned-16  0.224819  0.921786   \n",
       "Hypertuned-17  0.219693  0.930717   \n",
       "Hypertuned-18  0.317599  0.900406   \n",
       "Hypertuned-19  0.218879  0.924763   \n",
       "\n",
       "                                                          params  \n",
       "Baseline                                                     NaN  \n",
       "Hypertuned-0   {'units': 128, 'activation': 'relu', 'num_laye...  \n",
       "Hypertuned-1   {'units': 480, 'activation': 'relu', 'num_laye...  \n",
       "Hypertuned-2   {'units': 384, 'activation': 'relu', 'num_laye...  \n",
       "Hypertuned-3   {'units': 192, 'activation': 'relu', 'num_laye...  \n",
       "Hypertuned-4   {'units': 320, 'activation': 'sigmoid', 'num_l...  \n",
       "Hypertuned-5   {'units': 128, 'activation': 'relu', 'num_laye...  \n",
       "Hypertuned-6   {'units': 480, 'activation': 'relu', 'num_laye...  \n",
       "Hypertuned-7   {'units': 480, 'activation': 'relu', 'num_laye...  \n",
       "Hypertuned-8   {'units': 480, 'activation': 'relu', 'num_laye...  \n",
       "Hypertuned-9   {'units': 384, 'activation': 'relu', 'num_laye...  \n",
       "Hypertuned-10                                                NaN  \n",
       "Hypertuned-11                                                NaN  \n",
       "Hypertuned-12                                                NaN  \n",
       "Hypertuned-13                                                NaN  \n",
       "Hypertuned-14                                                NaN  \n",
       "Hypertuned-15                                                NaN  \n",
       "Hypertuned-16                                                NaN  \n",
       "Hypertuned-17                                                NaN  \n",
       "Hypertuned-18                                                NaN  \n",
       "Hypertuned-19                                                NaN  "
      ]
     },
     "execution_count": 17,
     "metadata": {},
     "output_type": "execute_result"
    }
   ],
   "source": [
    "results"
   ]
  },
  {
   "cell_type": "code",
   "execution_count": 43,
   "metadata": {},
   "outputs": [
    {
     "data": {
      "text/plain": [
       "8"
      ]
     },
     "execution_count": 43,
     "metadata": {},
     "output_type": "execute_result"
    }
   ],
   "source": [
    "best_model_index = int(results['accuracy'].idxmax()['accuracy'].split('-')[1])\n",
    "best_model_index"
   ]
  },
  {
   "cell_type": "code",
   "execution_count": 44,
   "metadata": {},
   "outputs": [],
   "source": [
    "param = params[best_model_index]\n"
   ]
  },
  {
   "cell_type": "code",
   "execution_count": 51,
   "metadata": {},
   "outputs": [
    {
     "name": "stdout",
     "output_type": "stream",
     "text": [
      "Epoch 1/34\n"
     ]
    },
    {
     "name": "stderr",
     "output_type": "stream",
     "text": [
      "WARNING:absl:Found untraced functions such as _update_step_xla while saving (showing 1 of 1). These functions will not be directly callable after loading.\n"
     ]
    },
    {
     "name": "stdout",
     "output_type": "stream",
     "text": [
      "INFO:tensorflow:Assets written to: ./checkpoints/model_1/assets\n"
     ]
    },
    {
     "name": "stderr",
     "output_type": "stream",
     "text": [
      "INFO:tensorflow:Assets written to: ./checkpoints/model_1/assets\n"
     ]
    },
    {
     "name": "stdout",
     "output_type": "stream",
     "text": [
      "347/347 - 4s - loss: 0.6926 - accuracy: 0.7005 - val_loss: 0.5018 - val_accuracy: 0.7932 - 4s/epoch - 10ms/step\n",
      "Epoch 2/34\n"
     ]
    },
    {
     "name": "stderr",
     "output_type": "stream",
     "text": [
      "WARNING:absl:Found untraced functions such as _update_step_xla while saving (showing 1 of 1). These functions will not be directly callable after loading.\n"
     ]
    },
    {
     "name": "stdout",
     "output_type": "stream",
     "text": [
      "INFO:tensorflow:Assets written to: ./checkpoints/model_2/assets\n"
     ]
    },
    {
     "name": "stderr",
     "output_type": "stream",
     "text": [
      "INFO:tensorflow:Assets written to: ./checkpoints/model_2/assets\n"
     ]
    },
    {
     "name": "stdout",
     "output_type": "stream",
     "text": [
      "347/347 - 2s - loss: 0.4727 - accuracy: 0.8135 - val_loss: 0.4549 - val_accuracy: 0.8186 - 2s/epoch - 6ms/step\n",
      "Epoch 3/34\n"
     ]
    },
    {
     "name": "stderr",
     "output_type": "stream",
     "text": [
      "WARNING:absl:Found untraced functions such as _update_step_xla while saving (showing 1 of 1). These functions will not be directly callable after loading.\n"
     ]
    },
    {
     "name": "stdout",
     "output_type": "stream",
     "text": [
      "INFO:tensorflow:Assets written to: ./checkpoints/model_3/assets\n"
     ]
    },
    {
     "name": "stderr",
     "output_type": "stream",
     "text": [
      "INFO:tensorflow:Assets written to: ./checkpoints/model_3/assets\n"
     ]
    },
    {
     "name": "stdout",
     "output_type": "stream",
     "text": [
      "347/347 - 2s - loss: 0.4256 - accuracy: 0.8378 - val_loss: 0.4016 - val_accuracy: 0.8476 - 2s/epoch - 6ms/step\n",
      "Epoch 4/34\n"
     ]
    },
    {
     "name": "stderr",
     "output_type": "stream",
     "text": [
      "WARNING:absl:Found untraced functions such as _update_step_xla while saving (showing 1 of 1). These functions will not be directly callable after loading.\n"
     ]
    },
    {
     "name": "stdout",
     "output_type": "stream",
     "text": [
      "INFO:tensorflow:Assets written to: ./checkpoints/model_4/assets\n"
     ]
    },
    {
     "name": "stderr",
     "output_type": "stream",
     "text": [
      "INFO:tensorflow:Assets written to: ./checkpoints/model_4/assets\n"
     ]
    },
    {
     "name": "stdout",
     "output_type": "stream",
     "text": [
      "347/347 - 2s - loss: 0.3844 - accuracy: 0.8522 - val_loss: 0.3603 - val_accuracy: 0.8625 - 2s/epoch - 7ms/step\n",
      "Epoch 5/34\n"
     ]
    },
    {
     "name": "stderr",
     "output_type": "stream",
     "text": [
      "WARNING:absl:Found untraced functions such as _update_step_xla while saving (showing 1 of 1). These functions will not be directly callable after loading.\n"
     ]
    },
    {
     "name": "stdout",
     "output_type": "stream",
     "text": [
      "INFO:tensorflow:Assets written to: ./checkpoints/model_5/assets\n"
     ]
    },
    {
     "name": "stderr",
     "output_type": "stream",
     "text": [
      "INFO:tensorflow:Assets written to: ./checkpoints/model_5/assets\n"
     ]
    },
    {
     "name": "stdout",
     "output_type": "stream",
     "text": [
      "347/347 - 3s - loss: 0.3482 - accuracy: 0.8628 - val_loss: 0.4174 - val_accuracy: 0.8297 - 3s/epoch - 7ms/step\n",
      "Epoch 6/34\n"
     ]
    },
    {
     "name": "stderr",
     "output_type": "stream",
     "text": [
      "WARNING:absl:Found untraced functions such as _update_step_xla while saving (showing 1 of 1). These functions will not be directly callable after loading.\n"
     ]
    },
    {
     "name": "stdout",
     "output_type": "stream",
     "text": [
      "INFO:tensorflow:Assets written to: ./checkpoints/model_6/assets\n"
     ]
    },
    {
     "name": "stderr",
     "output_type": "stream",
     "text": [
      "INFO:tensorflow:Assets written to: ./checkpoints/model_6/assets\n"
     ]
    },
    {
     "name": "stdout",
     "output_type": "stream",
     "text": [
      "347/347 - 2s - loss: 0.3257 - accuracy: 0.8734 - val_loss: 0.2872 - val_accuracy: 0.8898 - 2s/epoch - 6ms/step\n",
      "Epoch 7/34\n"
     ]
    },
    {
     "name": "stderr",
     "output_type": "stream",
     "text": [
      "WARNING:absl:Found untraced functions such as _update_step_xla while saving (showing 1 of 1). These functions will not be directly callable after loading.\n"
     ]
    },
    {
     "name": "stdout",
     "output_type": "stream",
     "text": [
      "INFO:tensorflow:Assets written to: ./checkpoints/model_7/assets\n"
     ]
    },
    {
     "name": "stderr",
     "output_type": "stream",
     "text": [
      "INFO:tensorflow:Assets written to: ./checkpoints/model_7/assets\n"
     ]
    },
    {
     "name": "stdout",
     "output_type": "stream",
     "text": [
      "347/347 - 2s - loss: 0.3064 - accuracy: 0.8841 - val_loss: 0.3463 - val_accuracy: 0.8617 - 2s/epoch - 7ms/step\n",
      "Epoch 8/34\n"
     ]
    },
    {
     "name": "stderr",
     "output_type": "stream",
     "text": [
      "WARNING:absl:Found untraced functions such as _update_step_xla while saving (showing 1 of 1). These functions will not be directly callable after loading.\n"
     ]
    },
    {
     "name": "stdout",
     "output_type": "stream",
     "text": [
      "INFO:tensorflow:Assets written to: ./checkpoints/model_8/assets\n"
     ]
    },
    {
     "name": "stderr",
     "output_type": "stream",
     "text": [
      "INFO:tensorflow:Assets written to: ./checkpoints/model_8/assets\n"
     ]
    },
    {
     "name": "stdout",
     "output_type": "stream",
     "text": [
      "347/347 - 2s - loss: 0.2933 - accuracy: 0.8872 - val_loss: 0.3014 - val_accuracy: 0.8825 - 2s/epoch - 7ms/step\n",
      "Epoch 9/34\n"
     ]
    },
    {
     "name": "stderr",
     "output_type": "stream",
     "text": [
      "WARNING:absl:Found untraced functions such as _update_step_xla while saving (showing 1 of 1). These functions will not be directly callable after loading.\n"
     ]
    },
    {
     "name": "stdout",
     "output_type": "stream",
     "text": [
      "INFO:tensorflow:Assets written to: ./checkpoints/model_9/assets\n"
     ]
    },
    {
     "name": "stderr",
     "output_type": "stream",
     "text": [
      "INFO:tensorflow:Assets written to: ./checkpoints/model_9/assets\n"
     ]
    },
    {
     "name": "stdout",
     "output_type": "stream",
     "text": [
      "347/347 - 2s - loss: 0.2903 - accuracy: 0.8895 - val_loss: 0.3425 - val_accuracy: 0.8576 - 2s/epoch - 7ms/step\n",
      "Epoch 10/34\n"
     ]
    },
    {
     "name": "stderr",
     "output_type": "stream",
     "text": [
      "WARNING:absl:Found untraced functions such as _update_step_xla while saving (showing 1 of 1). These functions will not be directly callable after loading.\n"
     ]
    },
    {
     "name": "stdout",
     "output_type": "stream",
     "text": [
      "INFO:tensorflow:Assets written to: ./checkpoints/model_10/assets\n"
     ]
    },
    {
     "name": "stderr",
     "output_type": "stream",
     "text": [
      "INFO:tensorflow:Assets written to: ./checkpoints/model_10/assets\n"
     ]
    },
    {
     "name": "stdout",
     "output_type": "stream",
     "text": [
      "347/347 - 2s - loss: 0.2771 - accuracy: 0.8965 - val_loss: 0.2654 - val_accuracy: 0.8985 - 2s/epoch - 7ms/step\n",
      "Epoch 11/34\n"
     ]
    },
    {
     "name": "stderr",
     "output_type": "stream",
     "text": [
      "WARNING:absl:Found untraced functions such as _update_step_xla while saving (showing 1 of 1). These functions will not be directly callable after loading.\n"
     ]
    },
    {
     "name": "stdout",
     "output_type": "stream",
     "text": [
      "INFO:tensorflow:Assets written to: ./checkpoints/model_11/assets\n"
     ]
    },
    {
     "name": "stderr",
     "output_type": "stream",
     "text": [
      "INFO:tensorflow:Assets written to: ./checkpoints/model_11/assets\n"
     ]
    },
    {
     "name": "stdout",
     "output_type": "stream",
     "text": [
      "347/347 - 2s - loss: 0.2738 - accuracy: 0.8963 - val_loss: 0.2549 - val_accuracy: 0.9061 - 2s/epoch - 7ms/step\n",
      "Epoch 12/34\n"
     ]
    },
    {
     "name": "stderr",
     "output_type": "stream",
     "text": [
      "WARNING:absl:Found untraced functions such as _update_step_xla while saving (showing 1 of 1). These functions will not be directly callable after loading.\n"
     ]
    },
    {
     "name": "stdout",
     "output_type": "stream",
     "text": [
      "INFO:tensorflow:Assets written to: ./checkpoints/model_12/assets\n"
     ]
    },
    {
     "name": "stderr",
     "output_type": "stream",
     "text": [
      "INFO:tensorflow:Assets written to: ./checkpoints/model_12/assets\n"
     ]
    },
    {
     "name": "stdout",
     "output_type": "stream",
     "text": [
      "347/347 - 2s - loss: 0.2583 - accuracy: 0.9027 - val_loss: 0.2903 - val_accuracy: 0.8839 - 2s/epoch - 7ms/step\n",
      "Epoch 13/34\n"
     ]
    },
    {
     "name": "stderr",
     "output_type": "stream",
     "text": [
      "WARNING:absl:Found untraced functions such as _update_step_xla while saving (showing 1 of 1). These functions will not be directly callable after loading.\n"
     ]
    },
    {
     "name": "stdout",
     "output_type": "stream",
     "text": [
      "INFO:tensorflow:Assets written to: ./checkpoints/model_13/assets\n"
     ]
    },
    {
     "name": "stderr",
     "output_type": "stream",
     "text": [
      "INFO:tensorflow:Assets written to: ./checkpoints/model_13/assets\n"
     ]
    },
    {
     "name": "stdout",
     "output_type": "stream",
     "text": [
      "347/347 - 2s - loss: 0.2507 - accuracy: 0.9062 - val_loss: 0.4553 - val_accuracy: 0.8362 - 2s/epoch - 7ms/step\n",
      "Epoch 14/34\n"
     ]
    },
    {
     "name": "stderr",
     "output_type": "stream",
     "text": [
      "WARNING:absl:Found untraced functions such as _update_step_xla while saving (showing 1 of 1). These functions will not be directly callable after loading.\n"
     ]
    },
    {
     "name": "stdout",
     "output_type": "stream",
     "text": [
      "INFO:tensorflow:Assets written to: ./checkpoints/model_14/assets\n"
     ]
    },
    {
     "name": "stderr",
     "output_type": "stream",
     "text": [
      "INFO:tensorflow:Assets written to: ./checkpoints/model_14/assets\n"
     ]
    },
    {
     "name": "stdout",
     "output_type": "stream",
     "text": [
      "347/347 - 3s - loss: 0.2452 - accuracy: 0.9093 - val_loss: 0.3064 - val_accuracy: 0.8817 - 3s/epoch - 8ms/step\n",
      "Epoch 15/34\n"
     ]
    },
    {
     "name": "stderr",
     "output_type": "stream",
     "text": [
      "WARNING:absl:Found untraced functions such as _update_step_xla while saving (showing 1 of 1). These functions will not be directly callable after loading.\n"
     ]
    },
    {
     "name": "stdout",
     "output_type": "stream",
     "text": [
      "INFO:tensorflow:Assets written to: ./checkpoints/model_15/assets\n"
     ]
    },
    {
     "name": "stderr",
     "output_type": "stream",
     "text": [
      "INFO:tensorflow:Assets written to: ./checkpoints/model_15/assets\n"
     ]
    },
    {
     "name": "stdout",
     "output_type": "stream",
     "text": [
      "347/347 - 2s - loss: 0.2461 - accuracy: 0.9093 - val_loss: 0.2689 - val_accuracy: 0.8979 - 2s/epoch - 6ms/step\n",
      "Epoch 16/34\n"
     ]
    },
    {
     "name": "stderr",
     "output_type": "stream",
     "text": [
      "WARNING:absl:Found untraced functions such as _update_step_xla while saving (showing 1 of 1). These functions will not be directly callable after loading.\n"
     ]
    },
    {
     "name": "stdout",
     "output_type": "stream",
     "text": [
      "INFO:tensorflow:Assets written to: ./checkpoints/model_16/assets\n"
     ]
    },
    {
     "name": "stderr",
     "output_type": "stream",
     "text": [
      "INFO:tensorflow:Assets written to: ./checkpoints/model_16/assets\n"
     ]
    },
    {
     "name": "stdout",
     "output_type": "stream",
     "text": [
      "347/347 - 2s - loss: 0.2358 - accuracy: 0.9107 - val_loss: 0.2704 - val_accuracy: 0.8904 - 2s/epoch - 6ms/step\n",
      "Epoch 17/34\n"
     ]
    },
    {
     "name": "stderr",
     "output_type": "stream",
     "text": [
      "WARNING:absl:Found untraced functions such as _update_step_xla while saving (showing 1 of 1). These functions will not be directly callable after loading.\n"
     ]
    },
    {
     "name": "stdout",
     "output_type": "stream",
     "text": [
      "INFO:tensorflow:Assets written to: ./checkpoints/model_17/assets\n"
     ]
    },
    {
     "name": "stderr",
     "output_type": "stream",
     "text": [
      "INFO:tensorflow:Assets written to: ./checkpoints/model_17/assets\n"
     ]
    },
    {
     "name": "stdout",
     "output_type": "stream",
     "text": [
      "347/347 - 2s - loss: 0.2344 - accuracy: 0.9077 - val_loss: 0.2517 - val_accuracy: 0.9085 - 2s/epoch - 6ms/step\n",
      "Epoch 18/34\n"
     ]
    },
    {
     "name": "stderr",
     "output_type": "stream",
     "text": [
      "WARNING:absl:Found untraced functions such as _update_step_xla while saving (showing 1 of 1). These functions will not be directly callable after loading.\n"
     ]
    },
    {
     "name": "stdout",
     "output_type": "stream",
     "text": [
      "INFO:tensorflow:Assets written to: ./checkpoints/model_18/assets\n"
     ]
    },
    {
     "name": "stderr",
     "output_type": "stream",
     "text": [
      "INFO:tensorflow:Assets written to: ./checkpoints/model_18/assets\n"
     ]
    },
    {
     "name": "stdout",
     "output_type": "stream",
     "text": [
      "347/347 - 2s - loss: 0.2299 - accuracy: 0.9140 - val_loss: 0.2451 - val_accuracy: 0.9050 - 2s/epoch - 7ms/step\n",
      "Epoch 19/34\n"
     ]
    },
    {
     "name": "stderr",
     "output_type": "stream",
     "text": [
      "WARNING:absl:Found untraced functions such as _update_step_xla while saving (showing 1 of 1). These functions will not be directly callable after loading.\n"
     ]
    },
    {
     "name": "stdout",
     "output_type": "stream",
     "text": [
      "INFO:tensorflow:Assets written to: ./checkpoints/model_19/assets\n"
     ]
    },
    {
     "name": "stderr",
     "output_type": "stream",
     "text": [
      "INFO:tensorflow:Assets written to: ./checkpoints/model_19/assets\n"
     ]
    },
    {
     "name": "stdout",
     "output_type": "stream",
     "text": [
      "347/347 - 2s - loss: 0.2249 - accuracy: 0.9170 - val_loss: 0.2366 - val_accuracy: 0.9166 - 2s/epoch - 6ms/step\n",
      "Epoch 20/34\n"
     ]
    },
    {
     "name": "stderr",
     "output_type": "stream",
     "text": [
      "WARNING:absl:Found untraced functions such as _update_step_xla while saving (showing 1 of 1). These functions will not be directly callable after loading.\n"
     ]
    },
    {
     "name": "stdout",
     "output_type": "stream",
     "text": [
      "INFO:tensorflow:Assets written to: ./checkpoints/model_20/assets\n"
     ]
    },
    {
     "name": "stderr",
     "output_type": "stream",
     "text": [
      "INFO:tensorflow:Assets written to: ./checkpoints/model_20/assets\n"
     ]
    },
    {
     "name": "stdout",
     "output_type": "stream",
     "text": [
      "347/347 - 2s - loss: 0.2197 - accuracy: 0.9190 - val_loss: 0.2472 - val_accuracy: 0.9107 - 2s/epoch - 7ms/step\n",
      "Epoch 21/34\n"
     ]
    },
    {
     "name": "stderr",
     "output_type": "stream",
     "text": [
      "WARNING:absl:Found untraced functions such as _update_step_xla while saving (showing 1 of 1). These functions will not be directly callable after loading.\n"
     ]
    },
    {
     "name": "stdout",
     "output_type": "stream",
     "text": [
      "INFO:tensorflow:Assets written to: ./checkpoints/model_21/assets\n"
     ]
    },
    {
     "name": "stderr",
     "output_type": "stream",
     "text": [
      "INFO:tensorflow:Assets written to: ./checkpoints/model_21/assets\n"
     ]
    },
    {
     "name": "stdout",
     "output_type": "stream",
     "text": [
      "347/347 - 2s - loss: 0.2250 - accuracy: 0.9158 - val_loss: 0.2814 - val_accuracy: 0.8860 - 2s/epoch - 7ms/step\n",
      "Epoch 22/34\n"
     ]
    },
    {
     "name": "stderr",
     "output_type": "stream",
     "text": [
      "WARNING:absl:Found untraced functions such as _update_step_xla while saving (showing 1 of 1). These functions will not be directly callable after loading.\n"
     ]
    },
    {
     "name": "stdout",
     "output_type": "stream",
     "text": [
      "INFO:tensorflow:Assets written to: ./checkpoints/model_22/assets\n"
     ]
    },
    {
     "name": "stderr",
     "output_type": "stream",
     "text": [
      "INFO:tensorflow:Assets written to: ./checkpoints/model_22/assets\n"
     ]
    },
    {
     "name": "stdout",
     "output_type": "stream",
     "text": [
      "347/347 - 2s - loss: 0.2083 - accuracy: 0.9237 - val_loss: 0.2596 - val_accuracy: 0.9039 - 2s/epoch - 7ms/step\n",
      "Epoch 23/34\n"
     ]
    },
    {
     "name": "stderr",
     "output_type": "stream",
     "text": [
      "WARNING:absl:Found untraced functions such as _update_step_xla while saving (showing 1 of 1). These functions will not be directly callable after loading.\n"
     ]
    },
    {
     "name": "stdout",
     "output_type": "stream",
     "text": [
      "INFO:tensorflow:Assets written to: ./checkpoints/model_23/assets\n"
     ]
    },
    {
     "name": "stderr",
     "output_type": "stream",
     "text": [
      "INFO:tensorflow:Assets written to: ./checkpoints/model_23/assets\n"
     ]
    },
    {
     "name": "stdout",
     "output_type": "stream",
     "text": [
      "347/347 - 3s - loss: 0.2078 - accuracy: 0.9256 - val_loss: 0.2493 - val_accuracy: 0.9101 - 3s/epoch - 8ms/step\n",
      "Epoch 24/34\n"
     ]
    },
    {
     "name": "stderr",
     "output_type": "stream",
     "text": [
      "WARNING:absl:Found untraced functions such as _update_step_xla while saving (showing 1 of 1). These functions will not be directly callable after loading.\n"
     ]
    },
    {
     "name": "stdout",
     "output_type": "stream",
     "text": [
      "INFO:tensorflow:Assets written to: ./checkpoints/model_24/assets\n"
     ]
    },
    {
     "name": "stderr",
     "output_type": "stream",
     "text": [
      "INFO:tensorflow:Assets written to: ./checkpoints/model_24/assets\n"
     ]
    },
    {
     "name": "stdout",
     "output_type": "stream",
     "text": [
      "347/347 - 2s - loss: 0.2115 - accuracy: 0.9230 - val_loss: 0.2269 - val_accuracy: 0.9153 - 2s/epoch - 7ms/step\n",
      "Epoch 25/34\n"
     ]
    },
    {
     "name": "stderr",
     "output_type": "stream",
     "text": [
      "WARNING:absl:Found untraced functions such as _update_step_xla while saving (showing 1 of 1). These functions will not be directly callable after loading.\n"
     ]
    },
    {
     "name": "stdout",
     "output_type": "stream",
     "text": [
      "INFO:tensorflow:Assets written to: ./checkpoints/model_25/assets\n"
     ]
    },
    {
     "name": "stderr",
     "output_type": "stream",
     "text": [
      "INFO:tensorflow:Assets written to: ./checkpoints/model_25/assets\n"
     ]
    },
    {
     "name": "stdout",
     "output_type": "stream",
     "text": [
      "347/347 - 2s - loss: 0.2079 - accuracy: 0.9227 - val_loss: 0.2379 - val_accuracy: 0.9039 - 2s/epoch - 7ms/step\n",
      "Epoch 26/34\n"
     ]
    },
    {
     "name": "stderr",
     "output_type": "stream",
     "text": [
      "WARNING:absl:Found untraced functions such as _update_step_xla while saving (showing 1 of 1). These functions will not be directly callable after loading.\n"
     ]
    },
    {
     "name": "stdout",
     "output_type": "stream",
     "text": [
      "INFO:tensorflow:Assets written to: ./checkpoints/model_26/assets\n"
     ]
    },
    {
     "name": "stderr",
     "output_type": "stream",
     "text": [
      "INFO:tensorflow:Assets written to: ./checkpoints/model_26/assets\n"
     ]
    },
    {
     "name": "stdout",
     "output_type": "stream",
     "text": [
      "347/347 - 2s - loss: 0.1972 - accuracy: 0.9311 - val_loss: 0.2615 - val_accuracy: 0.9055 - 2s/epoch - 6ms/step\n",
      "Epoch 27/34\n"
     ]
    },
    {
     "name": "stderr",
     "output_type": "stream",
     "text": [
      "WARNING:absl:Found untraced functions such as _update_step_xla while saving (showing 1 of 1). These functions will not be directly callable after loading.\n"
     ]
    },
    {
     "name": "stdout",
     "output_type": "stream",
     "text": [
      "INFO:tensorflow:Assets written to: ./checkpoints/model_27/assets\n"
     ]
    },
    {
     "name": "stderr",
     "output_type": "stream",
     "text": [
      "INFO:tensorflow:Assets written to: ./checkpoints/model_27/assets\n"
     ]
    },
    {
     "name": "stdout",
     "output_type": "stream",
     "text": [
      "347/347 - 2s - loss: 0.2068 - accuracy: 0.9233 - val_loss: 0.2427 - val_accuracy: 0.9112 - 2s/epoch - 7ms/step\n",
      "Epoch 28/34\n"
     ]
    },
    {
     "name": "stderr",
     "output_type": "stream",
     "text": [
      "WARNING:absl:Found untraced functions such as _update_step_xla while saving (showing 1 of 1). These functions will not be directly callable after loading.\n"
     ]
    },
    {
     "name": "stdout",
     "output_type": "stream",
     "text": [
      "INFO:tensorflow:Assets written to: ./checkpoints/model_28/assets\n"
     ]
    },
    {
     "name": "stderr",
     "output_type": "stream",
     "text": [
      "INFO:tensorflow:Assets written to: ./checkpoints/model_28/assets\n"
     ]
    },
    {
     "name": "stdout",
     "output_type": "stream",
     "text": [
      "347/347 - 2s - loss: 0.2052 - accuracy: 0.9271 - val_loss: 0.2444 - val_accuracy: 0.9085 - 2s/epoch - 6ms/step\n",
      "Epoch 29/34\n"
     ]
    },
    {
     "name": "stderr",
     "output_type": "stream",
     "text": [
      "WARNING:absl:Found untraced functions such as _update_step_xla while saving (showing 1 of 1). These functions will not be directly callable after loading.\n"
     ]
    },
    {
     "name": "stdout",
     "output_type": "stream",
     "text": [
      "INFO:tensorflow:Assets written to: ./checkpoints/model_29/assets\n"
     ]
    },
    {
     "name": "stderr",
     "output_type": "stream",
     "text": [
      "INFO:tensorflow:Assets written to: ./checkpoints/model_29/assets\n"
     ]
    },
    {
     "name": "stdout",
     "output_type": "stream",
     "text": [
      "347/347 - 2s - loss: 0.1820 - accuracy: 0.9358 - val_loss: 0.2187 - val_accuracy: 0.9215 - 2s/epoch - 7ms/step\n",
      "Epoch 30/34\n"
     ]
    },
    {
     "name": "stderr",
     "output_type": "stream",
     "text": [
      "WARNING:absl:Found untraced functions such as _update_step_xla while saving (showing 1 of 1). These functions will not be directly callable after loading.\n"
     ]
    },
    {
     "name": "stdout",
     "output_type": "stream",
     "text": [
      "INFO:tensorflow:Assets written to: ./checkpoints/model_30/assets\n"
     ]
    },
    {
     "name": "stderr",
     "output_type": "stream",
     "text": [
      "INFO:tensorflow:Assets written to: ./checkpoints/model_30/assets\n"
     ]
    },
    {
     "name": "stdout",
     "output_type": "stream",
     "text": [
      "347/347 - 2s - loss: 0.1817 - accuracy: 0.9378 - val_loss: 0.2161 - val_accuracy: 0.9258 - 2s/epoch - 7ms/step\n",
      "Epoch 31/34\n"
     ]
    },
    {
     "name": "stderr",
     "output_type": "stream",
     "text": [
      "WARNING:absl:Found untraced functions such as _update_step_xla while saving (showing 1 of 1). These functions will not be directly callable after loading.\n"
     ]
    },
    {
     "name": "stdout",
     "output_type": "stream",
     "text": [
      "INFO:tensorflow:Assets written to: ./checkpoints/model_31/assets\n"
     ]
    },
    {
     "name": "stderr",
     "output_type": "stream",
     "text": [
      "INFO:tensorflow:Assets written to: ./checkpoints/model_31/assets\n"
     ]
    },
    {
     "name": "stdout",
     "output_type": "stream",
     "text": [
      "347/347 - 2s - loss: 0.1992 - accuracy: 0.9280 - val_loss: 0.2490 - val_accuracy: 0.9134 - 2s/epoch - 7ms/step\n",
      "Epoch 32/34\n"
     ]
    },
    {
     "name": "stderr",
     "output_type": "stream",
     "text": [
      "WARNING:absl:Found untraced functions such as _update_step_xla while saving (showing 1 of 1). These functions will not be directly callable after loading.\n"
     ]
    },
    {
     "name": "stdout",
     "output_type": "stream",
     "text": [
      "INFO:tensorflow:Assets written to: ./checkpoints/model_32/assets\n"
     ]
    },
    {
     "name": "stderr",
     "output_type": "stream",
     "text": [
      "INFO:tensorflow:Assets written to: ./checkpoints/model_32/assets\n"
     ]
    },
    {
     "name": "stdout",
     "output_type": "stream",
     "text": [
      "347/347 - 3s - loss: 0.1975 - accuracy: 0.9293 - val_loss: 0.2869 - val_accuracy: 0.9128 - 3s/epoch - 8ms/step\n",
      "Epoch 33/34\n"
     ]
    },
    {
     "name": "stderr",
     "output_type": "stream",
     "text": [
      "WARNING:absl:Found untraced functions such as _update_step_xla while saving (showing 1 of 1). These functions will not be directly callable after loading.\n"
     ]
    },
    {
     "name": "stdout",
     "output_type": "stream",
     "text": [
      "INFO:tensorflow:Assets written to: ./checkpoints/model_33/assets\n"
     ]
    },
    {
     "name": "stderr",
     "output_type": "stream",
     "text": [
      "INFO:tensorflow:Assets written to: ./checkpoints/model_33/assets\n"
     ]
    },
    {
     "name": "stdout",
     "output_type": "stream",
     "text": [
      "347/347 - 2s - loss: 0.1822 - accuracy: 0.9349 - val_loss: 0.2529 - val_accuracy: 0.9080 - 2s/epoch - 7ms/step\n",
      "Epoch 34/34\n"
     ]
    },
    {
     "name": "stderr",
     "output_type": "stream",
     "text": [
      "WARNING:absl:Found untraced functions such as _update_step_xla while saving (showing 1 of 1). These functions will not be directly callable after loading.\n"
     ]
    },
    {
     "name": "stdout",
     "output_type": "stream",
     "text": [
      "INFO:tensorflow:Assets written to: ./checkpoints/model_34/assets\n"
     ]
    },
    {
     "name": "stderr",
     "output_type": "stream",
     "text": [
      "INFO:tensorflow:Assets written to: ./checkpoints/model_34/assets\n"
     ]
    },
    {
     "name": "stdout",
     "output_type": "stream",
     "text": [
      "347/347 - 2s - loss: 0.1941 - accuracy: 0.9317 - val_loss: 0.2221 - val_accuracy: 0.9185 - 2s/epoch - 7ms/step\n"
     ]
    },
    {
     "data": {
      "text/plain": [
       "<keras.callbacks.History at 0x7f645075f610>"
      ]
     },
     "execution_count": 51,
     "metadata": {},
     "output_type": "execute_result"
    }
   ],
   "source": [
    "model = build_model(param)\n",
    "model.fit(x_train, y_train, epochs=param.values.get('tuner/epochs'), callbacks=callbacks, validation_data=(x_val, y_val), verbose=1)"
   ]
  },
  {
   "cell_type": "code",
   "execution_count": 52,
   "metadata": {
    "colab": {
     "base_uri": "https://localhost:8080/"
    },
    "id": "79Nz0yC4VJbB",
    "outputId": "a0dcd300-8286-4c51-9b09-35d52e5a695a"
   },
   "outputs": [
    {
     "name": "stdout",
     "output_type": "stream",
     "text": [
      "116/116 [==============================] - 0s 2ms/step - loss: 0.2189 - accuracy: 0.9194\n"
     ]
    },
    {
     "data": {
      "text/html": [
       "<div>\n",
       "<style scoped>\n",
       "    .dataframe tbody tr th:only-of-type {\n",
       "        vertical-align: middle;\n",
       "    }\n",
       "\n",
       "    .dataframe tbody tr th {\n",
       "        vertical-align: top;\n",
       "    }\n",
       "\n",
       "    .dataframe thead tr th {\n",
       "        text-align: left;\n",
       "    }\n",
       "</style>\n",
       "<table border=\"1\" class=\"dataframe\">\n",
       "  <thead>\n",
       "    <tr>\n",
       "      <th></th>\n",
       "      <th>loss</th>\n",
       "      <th>accuracy</th>\n",
       "    </tr>\n",
       "  </thead>\n",
       "  <tbody>\n",
       "    <tr>\n",
       "      <th>0</th>\n",
       "      <td>0.218918</td>\n",
       "      <td>0.91935</td>\n",
       "    </tr>\n",
       "  </tbody>\n",
       "</table>\n",
       "</div>"
      ],
      "text/plain": [
       "       loss accuracy\n",
       "0  0.218918  0.91935"
      ]
     },
     "execution_count": 52,
     "metadata": {},
     "output_type": "execute_result"
    }
   ],
   "source": [
    "evaluate_model(model, x_test, y_test)\n"
   ]
  },
  {
   "cell_type": "code",
   "execution_count": null,
   "metadata": {
    "colab": {
     "base_uri": "https://localhost:8080/"
    },
    "id": "Kybz036JgNCk",
    "outputId": "8f6d8894-798b-4c02-bf96-e1c06063f229"
   },
   "outputs": [],
   "source": [
    "r = model.predict(x_test)\n",
    "# res = []\n",
    "# tmp = []\n",
    "# for i in range(24):\n",
    "#   if i%3 ==0 and i !=0:\n",
    "#     res.append(tmp)\n",
    "#     tmp = []\n",
    "#   tmp.append(r[i])\n",
    "# res.append(tmp)\n",
    "# res\n",
    "res = [np.argmax(i) for i in r]\n"
   ]
  },
  {
   "cell_type": "code",
   "execution_count": 53,
   "metadata": {
    "colab": {
     "base_uri": "https://localhost:8080/"
    },
    "id": "eRk_8iFZJ-aZ",
    "outputId": "63e94a8d-0d76-49a5-f626-b1a5a86d272f"
   },
   "outputs": [
    {
     "name": "stderr",
     "output_type": "stream",
     "text": [
      "WARNING:absl:Found untraced functions such as _update_step_xla while saving (showing 1 of 1). These functions will not be directly callable after loading.\n"
     ]
    },
    {
     "name": "stdout",
     "output_type": "stream",
     "text": [
      "INFO:tensorflow:Assets written to: ./out/model/assets\n"
     ]
    },
    {
     "name": "stderr",
     "output_type": "stream",
     "text": [
      "INFO:tensorflow:Assets written to: ./out/model/assets\n"
     ]
    }
   ],
   "source": [
    "model.save('./out/model')\n"
   ]
  },
  {
   "cell_type": "code",
   "execution_count": null,
   "metadata": {
    "id": "oyBVpYHwRpTq"
   },
   "outputs": [],
   "source": [
    "# Convert to TFLite model\n",
    "import tensorflow as tf\n",
    "\n",
    "# Convert the model\n",
    "converter = tf.lite.TFLiteConverter.from_saved_model(\n",
    "    './out/model')  # path to the SavedModel directory\n",
    "tflite_model = converter.convert()\n",
    "\n",
    "# Save the model.\n",
    "with open('model.tflite', 'wb') as f:\n",
    "    f.write(tflite_model)\n"
   ]
  },
  {
   "cell_type": "code",
   "execution_count": null,
   "metadata": {
    "id": "4L3AKuKUToe_"
   },
   "outputs": [],
   "source": []
  }
 ],
 "metadata": {
  "colab": {
   "provenance": []
  },
  "kernelspec": {
   "display_name": "Python 3.10.9 ('python310')",
   "language": "python",
   "name": "python3"
  },
  "language_info": {
   "codemirror_mode": {
    "name": "ipython",
    "version": 3
   },
   "file_extension": ".py",
   "mimetype": "text/x-python",
   "name": "python",
   "nbconvert_exporter": "python",
   "pygments_lexer": "ipython3",
   "version": "3.10.9"
  },
  "vscode": {
   "interpreter": {
    "hash": "5104b67bda0624ec86c6ec05a8fc6d65bebceb8d1c1341c67a38cf3c49f6d320"
   }
  }
 },
 "nbformat": 4,
 "nbformat_minor": 1
}
